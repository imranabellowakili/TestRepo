{
 "cells": [
  {
   "cell_type": "markdown",
   "id": "715f267a-4342-4266-b85b-9586ed109279",
   "metadata": {},
   "source": [
    "# Data Science Tools and Ecosystem"
   ]
  },
  {
   "cell_type": "markdown",
   "id": "857db9bd-4ad3-45be-a4a1-d907b6c5f93c",
   "metadata": {},
   "source": [
    "## In this notebook, Data Science Tools and Ecosystem are summarized"
   ]
  },
  {
   "cell_type": "markdown",
   "id": "2b753bac-c2c2-439c-8e2b-cd4eeb142eeb",
   "metadata": {},
   "source": [
    "Some of the popular languages that Data Scientists use are:\n",
    "\n",
    "1. Python  \n",
    "2. R  \n",
    "3. SQL  \n",
    "4. Julia  \n",
    "5. Scala  "
   ]
  },
  {
   "cell_type": "markdown",
   "id": "694da1de-2f5c-4210-b52b-51587753e13b",
   "metadata": {},
   "source": [
    "Some of the commonly used libraries used by Data Scientists include:\n",
    "\n",
    "1. **NumPy** – for numerical computations and array operations  \n",
    "2. **Pandas** – for data manipulation and analysis  \n",
    "3. **Matplotlib** – for data visualization  \n",
    "4. **Scikit-learn** – for machine learning  \n",
    "5. **TensorFlow** – for deep learning\n"
   ]
  },
  {
   "cell_type": "markdown",
   "id": "5888a8db-b26f-46af-a9fb-d4d4da2024e6",
   "metadata": {},
   "source": [
    "| Data Science Tools       |\n",
    "|----------------------------|\n",
    "| Jupyter Notebooks          |\n",
    "| RStudio                    |\n",
    "| Apache Zeppelin            |\n"
   ]
  },
  {
   "cell_type": "markdown",
   "id": "7b842436-f485-43c9-8ea0-e9c03850cf94",
   "metadata": {},
   "source": [
    "### Below are a few examples of evaluating arithmetic expressions in Python."
   ]
  },
  {
   "cell_type": "code",
   "execution_count": 12,
   "id": "8c150a0f-2dd8-4e23-814f-2be5dce26837",
   "metadata": {},
   "outputs": [
    {
     "data": {
      "text/plain": [
       "17"
      ]
     },
     "execution_count": 12,
     "metadata": {},
     "output_type": "execute_result"
    }
   ],
   "source": [
    "# This is a simple arithmetic expression to multiply then add integers\n",
    "(3 * 4) + 5"
   ]
  },
  {
   "cell_type": "code",
   "execution_count": 14,
   "id": "f641503d-9b6a-443d-9d48-9cfdf79cbd2b",
   "metadata": {},
   "outputs": [
    {
     "data": {
      "text/plain": [
       "3.3333333333333335"
      ]
     },
     "execution_count": 14,
     "metadata": {},
     "output_type": "execute_result"
    }
   ],
   "source": [
    "# This will convert 200 minutes to hours by dividing by 60\n",
    "200 / 60"
   ]
  },
  {
   "cell_type": "markdown",
   "id": "b288e401-1415-42d0-8f3e-991f3eed7c2e",
   "metadata": {},
   "source": [
    "**Objectives:**\n",
    "\n",
    "- List popular languages for Data Science  \n",
    "- List commonly used libraries in Data Science  \n",
    "- Create and execute markdown and code cells  \n",
    "- Perform basic arithmetic in Python  \n",
    "- Convert units using simple expressions  "
   ]
  },
  {
   "cell_type": "markdown",
   "id": "f0e4e8b0-29ac-4ae5-a1c5-8e47e2c5211e",
   "metadata": {},
   "source": [
    "## Author\n",
    "\n",
    "Imrana Bello"
   ]
  },
  {
   "cell_type": "code",
   "execution_count": null,
   "id": "3db471e4-2f86-4021-96ed-c88bf0c78198",
   "metadata": {},
   "outputs": [],
   "source": []
  }
 ],
 "metadata": {
  "kernelspec": {
   "display_name": "Python [conda env:base] *",
   "language": "python",
   "name": "conda-base-py"
  },
  "language_info": {
   "codemirror_mode": {
    "name": "ipython",
    "version": 3
   },
   "file_extension": ".py",
   "mimetype": "text/x-python",
   "name": "python",
   "nbconvert_exporter": "python",
   "pygments_lexer": "ipython3",
   "version": "3.12.7"
  }
 },
 "nbformat": 4,
 "nbformat_minor": 5
}
